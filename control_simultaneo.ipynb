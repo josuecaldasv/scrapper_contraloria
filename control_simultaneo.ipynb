{
 "cells": [
  {
   "cell_type": "markdown",
   "id": "7eaa8851-ad04-4674-83f5-269eb928c360",
   "metadata": {},
   "source": [
    "# 1. Import libraries and modules"
   ]
  },
  {
   "cell_type": "markdown",
   "id": "06a8afdd-c1c6-48a2-af86-393f83beabaa",
   "metadata": {},
   "source": [
    "## 1.1. Import libraries"
   ]
  },
  {
   "cell_type": "code",
   "execution_count": null,
   "id": "f4cc045e-1925-44a9-a62c-40d0efed63d1",
   "metadata": {},
   "outputs": [],
   "source": [
    "# Selenium\n",
    "from selenium import webdriver\n",
    "from webdriver_manager.chrome import ChromeDriverManager\n",
    "from selenium.webdriver.chrome.service import Service\n",
    "from selenium.webdriver.common.action_chains import ActionChains\n",
    "\n",
    "# For scraping\n",
    "from selenium import webdriver\n",
    "from webdriver_manager.chrome import ChromeDriverManager\n",
    "\n",
    "# Options driver\n",
    "from selenium.webdriver.chrome.options import Options\n",
    "from selenium.webdriver.support.ui import Select\n",
    "\n",
    "# Dataframes\n",
    "import pandas as pd\n",
    "import itertools\n",
    "import os\n",
    "\n",
    "# Simulating human behavior\n",
    "import time\n",
    "from time import sleep\n",
    "import random\n",
    "\n",
    "# Clear data\n",
    "import unidecode\n",
    "\n",
    "# Json files\n",
    "import json\n",
    "import re\n",
    "import numpy as np\n",
    "import itertools\n",
    "from pandas import json_normalize\n",
    "\n",
    "# To use explicit waits\n",
    "from selenium.webdriver.common.by import By\n",
    "from selenium.webdriver.support.ui import WebDriverWait\n",
    "from selenium.webdriver.support import expected_conditions as EC\n",
    "\n",
    "# Download files\n",
    "import urllib.request\n",
    "import requests\n",
    "from openpyxl import Workbook"
   ]
  },
  {
   "cell_type": "markdown",
   "id": "98ad3fce-8e6f-4363-bffd-3436303c50ee",
   "metadata": {},
   "source": [
    "## 1.2. Import module"
   ]
  },
  {
   "cell_type": "code",
   "execution_count": null,
   "id": "ea8f0ebc-f4dc-4ef3-857a-059242588ae9",
   "metadata": {},
   "outputs": [],
   "source": [
    "import funcion as fun"
   ]
  },
  {
   "cell_type": "markdown",
   "id": "0e315c0f-be62-4948-b2d7-d0d07d7ff763",
   "metadata": {},
   "source": [
    "## 2. Apply"
   ]
  },
  {
   "cell_type": "markdown",
   "id": "0f060cc3-4c7a-4de1-af17-f73abca0998e",
   "metadata": {
    "tags": []
   },
   "source": [
    "### 2.1. Grupo 1: 2016-2018"
   ]
  },
  {
   "cell_type": "code",
   "execution_count": null,
   "id": "65d4bee7-7e83-44f5-833a-7ce07e8b782c",
   "metadata": {
    "tags": []
   },
   "outputs": [],
   "source": [
    "years = [ '2016', '2017', '2018' ]\n",
    "\n",
    "type_service = '\"SERVICIO CONTROL SIMULTANEO\"'\n",
    "\n",
    "group = 'grupo_1'\n",
    "\n",
    "fun.scraper_contraloria( years, type_service, group )"
   ]
  },
  {
   "cell_type": "markdown",
   "id": "ef03d964-8de0-4c5b-8168-d4c4b97952ce",
   "metadata": {
    "tags": []
   },
   "source": [
    "### 2.2. Grupo 2: 2019"
   ]
  },
  {
   "cell_type": "code",
   "execution_count": null,
   "id": "34ba3681-ea45-4fe5-a7e5-71c32aff7c13",
   "metadata": {
    "tags": []
   },
   "outputs": [],
   "source": [
    "years = [ '2019' ]\n",
    "\n",
    "type_service = '\"SERVICIO CONTROL SIMULTANEO\"'\n",
    "\n",
    "group = 'grupo_2'\n",
    "\n",
    "fun.scraper_contraloria( years, type_service, group )"
   ]
  },
  {
   "cell_type": "markdown",
   "id": "5ceddcbb-29ad-4d91-9667-c8d13b3d941a",
   "metadata": {
    "tags": []
   },
   "source": [
    "### 2.3. Grupo 3: 2020"
   ]
  },
  {
   "cell_type": "code",
   "execution_count": null,
   "id": "d7a224f2-a96a-428f-910b-87a41a799dd6",
   "metadata": {
    "tags": []
   },
   "outputs": [],
   "source": [
    "years = [ '2020' ]\n",
    "\n",
    "type_service = '\"SERVICIO CONTROL SIMULTANEO\"'\n",
    "\n",
    "group = 'grupo_3'\n",
    "\n",
    "fun.scraper_contraloria( years, type_service, group )"
   ]
  },
  {
   "cell_type": "markdown",
   "id": "fcfc944c-2891-4dec-aefb-c53120e67cf5",
   "metadata": {
    "tags": []
   },
   "source": [
    "### 2.4. Grupo 4: 2021"
   ]
  },
  {
   "cell_type": "code",
   "execution_count": null,
   "id": "14f79861-36de-4fa3-9ce0-a9c38c66c8dd",
   "metadata": {
    "tags": []
   },
   "outputs": [],
   "source": [
    "years = [ '2021' ]\n",
    "\n",
    "type_service = '\"SERVICIO CONTROL SIMULTANEO\"'\n",
    "\n",
    "group = 'grupo_4'\n",
    "\n",
    "fun.scraper_contraloria( years, type_service, group )"
   ]
  },
  {
   "cell_type": "markdown",
   "id": "f32c4de6-2994-4045-affa-34a2126835b1",
   "metadata": {
    "tags": []
   },
   "source": [
    "### 2.5. Grupo 5: 2022"
   ]
  },
  {
   "cell_type": "code",
   "execution_count": null,
   "id": "bf4ea3c2-229a-4e68-bd03-e78c2b55f834",
   "metadata": {
    "tags": []
   },
   "outputs": [],
   "source": [
    "years = [ '2022' ]\n",
    "\n",
    "type_service = '\"SERVICIO CONTROL SIMULTANEO\"'\n",
    "\n",
    "group = 'grupo_5'\n",
    "\n",
    "fun.scraper_contraloria( years, type_service, group )"
   ]
  }
 ],
 "metadata": {
  "kernelspec": {
   "display_name": "Python 3 (ipykernel)",
   "language": "python",
   "name": "python3"
  },
  "language_info": {
   "codemirror_mode": {
    "name": "ipython",
    "version": 3
   },
   "file_extension": ".py",
   "mimetype": "text/x-python",
   "name": "python",
   "nbconvert_exporter": "python",
   "pygments_lexer": "ipython3",
   "version": "3.9.13"
  }
 },
 "nbformat": 4,
 "nbformat_minor": 5
}
