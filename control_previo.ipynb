{
 "cells": [
  {
   "cell_type": "markdown",
   "id": "7eaa8851-ad04-4674-83f5-269eb928c360",
   "metadata": {},
   "source": [
    "# 1. Import libraries and modules"
   ]
  },
  {
   "cell_type": "markdown",
   "id": "06a8afdd-c1c6-48a2-af86-393f83beabaa",
   "metadata": {},
   "source": [
    "## 1.1. Import libraries"
   ]
  },
  {
   "cell_type": "code",
   "execution_count": 1,
   "id": "f4cc045e-1925-44a9-a62c-40d0efed63d1",
   "metadata": {},
   "outputs": [],
   "source": [
    "# Selenium\n",
    "from selenium import webdriver\n",
    "from webdriver_manager.chrome import ChromeDriverManager\n",
    "from selenium.webdriver.chrome.service import Service\n",
    "from selenium.webdriver.common.action_chains import ActionChains\n",
    "\n",
    "# For scraping\n",
    "from selenium import webdriver\n",
    "from webdriver_manager.chrome import ChromeDriverManager\n",
    "\n",
    "# Options driver\n",
    "from selenium.webdriver.chrome.options import Options\n",
    "from selenium.webdriver.support.ui import Select\n",
    "\n",
    "# Dataframes\n",
    "import pandas as pd\n",
    "import itertools\n",
    "import os\n",
    "\n",
    "# Simulating human behavior\n",
    "import time\n",
    "from time import sleep\n",
    "import random\n",
    "\n",
    "# Clear data\n",
    "import unidecode\n",
    "\n",
    "# Json files\n",
    "import json\n",
    "import re\n",
    "import numpy as np\n",
    "import itertools\n",
    "from pandas import json_normalize\n",
    "\n",
    "# To use explicit waits\n",
    "from selenium.webdriver.common.by import By\n",
    "from selenium.webdriver.support.ui import WebDriverWait\n",
    "from selenium.webdriver.support import expected_conditions as EC\n",
    "\n",
    "# Download files\n",
    "import urllib.request\n",
    "import requests\n",
    "from openpyxl import Workbook"
   ]
  },
  {
   "cell_type": "markdown",
   "id": "98ad3fce-8e6f-4363-bffd-3436303c50ee",
   "metadata": {},
   "source": [
    "## 1.2. Import module"
   ]
  },
  {
   "cell_type": "code",
   "execution_count": 2,
   "id": "ea8f0ebc-f4dc-4ef3-857a-059242588ae9",
   "metadata": {},
   "outputs": [],
   "source": [
    "import funcion as fun"
   ]
  },
  {
   "cell_type": "markdown",
   "id": "0e315c0f-be62-4948-b2d7-d0d07d7ff763",
   "metadata": {},
   "source": [
    "## 2. Apply"
   ]
  },
  {
   "cell_type": "code",
   "execution_count": 3,
   "id": "65d4bee7-7e83-44f5-833a-7ce07e8b782c",
   "metadata": {},
   "outputs": [
    {
     "name": "stdout",
     "output_type": "stream",
     "text": [
      "\"AMAZONAS\"\n",
      "\"ANCASH\"\n",
      "\"APURIMAC\"\n",
      "\"AREQUIPA\"\n",
      "\"AYACUCHO\"\n",
      "\"CAJAMARCA\"\n",
      "\"CUSCO\"\n",
      "\"HUANCAVELICA\"\n",
      "\"HUANUCO\"\n",
      "\"ICA\"\n",
      "\"JUNIN\"\n",
      "\"LA LIBERTAD\"\n",
      "\"LAMBAYEQUE\"\n",
      "\"LIMA\"\n",
      "2016\n",
      "2017\n",
      "2018\n",
      "2019\n",
      "2020\n",
      "2021\n",
      "2022\n",
      "\"MUNICIPALIDADES DISTRITALES\"\n",
      "\"MUNICIPALIDADES PROVINCIALES\"\n",
      "\"SERVICIO CONTROL PREVIO\"\n",
      "\"ASOCIACIÓN PÚBLICO PRIVADA\"\n",
      "\"ENDEUDAMIENTO INTERNO O EXTERNO\"\n",
      "\"OBRAS POR IMPUESTOS\"\n",
      "\"PRESTACIONES DE ADICIONALES DE OBRA\"\n",
      "\"PRESTACIONES DE ADICIONALES DE SUPERVISIÓN\"\n",
      "['AMAZONAS', 'ANCASH', 'APURIMAC', 'AREQUIPA', 'AYACUCHO', 'CAJAMARCA', 'CUSCO', 'HUANCAVELICA', 'HUANUCO', 'ICA', 'JUNIN', 'LA_LIBERTAD', 'LAMBAYEQUE', 'LIMA', 'LORETO', 'MADRE_DE_DIOS', 'MOQUEGUA', 'P_C_DEL_CALLAO', 'PASCO', 'PIURA', 'PUNO', 'SAN_MARTIN', 'TACNA', 'TUMBES', 'UCAYALI']\n",
      "N. paginas: 22\n",
      "Procesando página 1...\n",
      "Modalidad de servicio: OBRAS_POR_IMPUESTOS\n",
      "Número de Informe: 02-2022-CG_GRCA\n",
      "\n",
      "02-2022-CG_GRCA-informe.pdf\n",
      "02-2022-CG_GRCA-resumen.pdf\n",
      "\n",
      "Modalidad de servicio: OBRAS_POR_IMPUESTOS\n",
      "Número de Informe: 03-2022-CG_GRAP\n",
      "\n",
      "03-2022-CG_GRAP-informe.pdf\n",
      "03-2022-CG_GRAP-resumen.pdf\n",
      "\n",
      "Modalidad de servicio: PRESTACIONES_DE_ADICIONALES_DE_SUPERVISION\n",
      "Número de Informe: 30408-2022-CG_GRAP-AS\n",
      "\n",
      "30408-2022-CG_GRAP-AS-informe.pdf\n",
      "30408-2022-CG_GRAP-AS-resumen.pdf\n",
      "\n",
      "0 documentos encontrados\n",
      "\n",
      "DATOS EXTRAIDOS EN EXCEL\n",
      "\n"
     ]
    }
   ],
   "source": [
    "regions = [  '\"AMAZONAS\"', '\"ANCASH\"', '\"APURIMAC\"', '\"AREQUIPA\"', '\"AYACUCHO\"', '\"CAJAMARCA\"',\n",
    "             '\"CUSCO\"', '\"HUANCAVELICA\"', '\"HUANUCO\"', '\"ICA\"', '\"JUNIN\"',  '\"LA LIBERTAD\"',\n",
    "             '\"LAMBAYEQUE\"', '\"LIMA\"', '\"LORETO\"', '\"MADRE DE DIOS\"', '\"MOQUEGUA\"', '\"P. C. DEL CALLAO\"', \n",
    "             '\"PASCO\"', '\"PIURA\"', '\"PUNO\"', '\"SAN MARTIN\"', '\"TACNA\"', '\"TUMBES\"', '\"UCAYALI\"' ]\n",
    "\n",
    "years = [ '2016', '2017', '2018', '2019', '2020', '2021', '2022' ]\n",
    "\n",
    "type_service = '\"SERVICIO CONTROL PREVIO\"'\n",
    "\n",
    "fun.scraper_contraloria( years, type_service, regions )"
   ]
  },
  {
   "cell_type": "code",
   "execution_count": null,
   "id": "b820528c-0ccd-4f06-a11a-ed8d4a8525a0",
   "metadata": {},
   "outputs": [],
   "source": []
  }
 ],
 "metadata": {
  "kernelspec": {
   "display_name": "Python 3 (ipykernel)",
   "language": "python",
   "name": "python3"
  },
  "language_info": {
   "codemirror_mode": {
    "name": "ipython",
    "version": 3
   },
   "file_extension": ".py",
   "mimetype": "text/x-python",
   "name": "python",
   "nbconvert_exporter": "python",
   "pygments_lexer": "ipython3",
   "version": "3.9.13"
  }
 },
 "nbformat": 4,
 "nbformat_minor": 5
}
