{
 "cells": [
  {
   "cell_type": "markdown",
   "id": "e0f4661d-6c8d-49c5-aa3f-1b27a1acc63b",
   "metadata": {},
   "source": [
    "# 1. Import libraries and modules"
   ]
  },
  {
   "cell_type": "markdown",
   "id": "4f9f863b-5c3f-4653-8a8f-7340cc7442af",
   "metadata": {},
   "source": [
    "## 1.1. Import libraries"
   ]
  },
  {
   "cell_type": "code",
   "execution_count": null,
   "id": "27092491-3472-4fce-b907-c620b362f1b0",
   "metadata": {},
   "outputs": [],
   "source": [
    "# Selenium\n",
    "from selenium import webdriver\n",
    "from webdriver_manager.chrome import ChromeDriverManager\n",
    "from selenium.webdriver.chrome.service import Service\n",
    "from selenium.webdriver.common.action_chains import ActionChains\n",
    "\n",
    "# Options driver\n",
    "from selenium.webdriver.chrome.options import Options\n",
    "from selenium.webdriver.support.ui import Select\n",
    "\n",
    "# Dataframes\n",
    "import pandas as pd\n",
    "import itertools\n",
    "import os\n",
    "\n",
    "# Simulating human behavior\n",
    "import time\n",
    "from time import sleep\n",
    "import random\n",
    "\n",
    "# Clear data\n",
    "import unidecode\n",
    "\n",
    "# Json files\n",
    "import json\n",
    "import re\n",
    "import numpy as np\n",
    "import itertools\n",
    "from pandas import json_normalize\n",
    "\n",
    "# To use explicit waits\n",
    "from selenium.webdriver.common.by import By\n",
    "from selenium.webdriver.support.ui import WebDriverWait\n",
    "from selenium.webdriver.support import expected_conditions as EC\n",
    "\n",
    "# Download files\n",
    "import urllib.request\n",
    "import requests\n",
    "from openpyxl import Workbook"
   ]
  },
  {
   "cell_type": "markdown",
   "id": "aaad0982-f2d5-4807-bb20-cae1c79e7ad1",
   "metadata": {},
   "source": [
    "## 1.2. Import module"
   ]
  },
  {
   "cell_type": "code",
   "execution_count": null,
   "id": "99e06597-e720-4efc-a064-e4cbd6f5854f",
   "metadata": {},
   "outputs": [],
   "source": [
    "import funcion as fun"
   ]
  },
  {
   "cell_type": "markdown",
   "id": "8b2d26fa-5d94-4d94-b3e2-7483dadedc2b",
   "metadata": {},
   "source": [
    "## 2. Apply"
   ]
  },
  {
   "cell_type": "markdown",
   "id": "ba13f6b5-0806-477e-b9ce-dbadd8d1a220",
   "metadata": {
    "tags": []
   },
   "source": [
    "### 2.1. Modalidad Auditoría de Cumplimiento: 2016-2022"
   ]
  },
  {
   "cell_type": "code",
   "execution_count": null,
   "id": "d3335ec9-b496-4dc7-bf95-613268c6acc8",
   "metadata": {
    "tags": []
   },
   "outputs": [],
   "source": [
    "years = [ '2022', '2021' ]\n",
    "mod   = '\"SERVICIO DE CONTROL ESPECÍFICO A HECHOS CON PRESUNTA IRREGULARIDAD\"'\n",
    "\n",
    "fun.scraper_contraloria( anios = years, modalidad = mod, grupo_path = False )"
   ]
  }
 ],
 "metadata": {
  "kernelspec": {
   "display_name": "Python 3 (ipykernel)",
   "language": "python",
   "name": "python3"
  },
  "language_info": {
   "codemirror_mode": {
    "name": "ipython",
    "version": 3
   },
   "file_extension": ".py",
   "mimetype": "text/x-python",
   "name": "python",
   "nbconvert_exporter": "python",
   "pygments_lexer": "ipython3",
   "version": "3.9.13"
  }
 },
 "nbformat": 4,
 "nbformat_minor": 5
}
